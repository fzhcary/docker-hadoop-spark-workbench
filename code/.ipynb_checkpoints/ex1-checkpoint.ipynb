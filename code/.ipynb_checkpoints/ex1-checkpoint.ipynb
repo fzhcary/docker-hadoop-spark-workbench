{
 "cells": [
  {
   "cell_type": "code",
   "execution_count": 1,
   "metadata": {},
   "outputs": [
    {
     "name": "stdout",
     "output_type": "stream",
     "text": [
      "+---+------+\n",
      "| id|  name|\n",
      "+---+------+\n",
      "|  1|   Bob|\n",
      "|  2|   Bob|\n",
      "|  3|Collin|\n",
      "|  4| Alice|\n",
      "|  5| Alice|\n",
      "|  6| Alice|\n",
      "|  7|  null|\n",
      "|  8|  null|\n",
      "+---+------+\n",
      "\n"
     ]
    }
   ],
   "source": [
    "from pyspark.sql import SparkSession\n",
    "\n",
    "spark=SparkSession.builder.appName(\"ex1\").getOrCreate()\n",
    "\n",
    "df =  spark.createDataFrame(\n",
    "  [(1, \"Bob\"),\n",
    "   (2, \"Bob\"),\n",
    "   (3, \"Collin\"),\n",
    "   (4, \"Alice\"),\n",
    "   (5, \"Alice\"),\n",
    "   (6, \"Alice\"),\n",
    "   (7, None),\n",
    "   (8, None),\n",
    "  ],\n",
    "  (\"id\", \"name\"))\n",
    "df.show()\n"
   ]
  },
  {
   "cell_type": "code",
   "execution_count": null,
   "metadata": {},
   "outputs": [],
   "source": []
  }
 ],
 "metadata": {
  "kernelspec": {
   "display_name": "Python 3",
   "language": "python",
   "name": "python3"
  },
  "language_info": {
   "codemirror_mode": {
    "name": "ipython",
    "version": 3
   },
   "file_extension": ".py",
   "mimetype": "text/x-python",
   "name": "python",
   "nbconvert_exporter": "python",
   "pygments_lexer": "ipython3",
   "version": "3.8.5"
  }
 },
 "nbformat": 4,
 "nbformat_minor": 4
}
